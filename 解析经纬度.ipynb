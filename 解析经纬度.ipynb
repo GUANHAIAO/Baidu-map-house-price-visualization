{
 "cells": [
  {
   "cell_type": "code",
   "execution_count": 3,
   "metadata": {
    "collapsed": true
   },
   "outputs": [],
   "source": [
    "# -*- coding: utf-8 -*-\n",
    "import pandas as pd\n",
    "import json\n",
    "from urllib.request import urlopen,quote\n",
    "import csv\n",
    "import traceback\n",
    "import os\n",
    "\n",
    "#构造获取经纬度的函数\n",
    "def getlnglat(address):\n",
    "    url = 'http://api.map.baidu.com/geocoder/v2/?address='\n",
    "    output = 'json'\n",
    "    #ak = '6kO31pOjODKU5u4g7TKUU2yFGVjQH1rD'#需填入自己申请应用后生成的ak\n",
    "    ak = 'mXSSIaVflH9bTGRZtBELMaFdbxzoc8Fe'#杨\n",
    "    add = quote(address)#本文城市变量为中文，为防止乱码，先用quote进行编码\n",
    "    url2 = url+add+'&output='+output+\"&ak=\"+ak\n",
    "    req = urlopen(url2)\n",
    "    res  = req.read().decode()\n",
    "    temp = json.loads(res)\n",
    "    return temp\n",
    "\n",
    "file = open('经纬度.json','w')#建立json数据文件\n",
    "data_1 = pd.read_csv(\"house_price.csv\")#读取小区房价信息\n",
    "for i in data_1.values:\n",
    "    try:\n",
    "        b = i[0].strip()\n",
    "        c = str(i[1]).strip()\n",
    "        lng = getlnglat(b)['result']['location']['lng']#获取经度\n",
    "        lat = getlnglat(b)['result']['location']['lat']#获取纬度\n",
    "        str_temp = '{\"lat\":' + str(lat) + ',\"lng\":' + str(lng) +',\"count\":'+str(c) +'},'\n",
    "        file.write(str_temp)\n",
    "    except:\n",
    "        f = open(\"异常日志.txt\",'a')\n",
    "        traceback.print_exc(file=f)\n",
    "        f.flush()\n",
    "        f.close()  \n",
    "file.close()"
   ]
  },
  {
   "cell_type": "code",
   "execution_count": null,
   "metadata": {
    "collapsed": false
   },
   "outputs": [],
   "source": [
    "file = open('经纬度1.json','w')#建立json数据文件\n",
    "with open(\"house_price.csv\",\"r\",encoding=\"UTF-8\") as csvfile:\n",
    "    reader = csv.reader(csvfile)\n",
    "    for line in reader:#读取csv文件数据\n",
    "        if reader.line_num == 1:\n",
    "            continue\n",
    "        b = line[0].strip()\n",
    "        c = str(line[1].strip())\n",
    "        try:\n",
    "            lng = getlnglat(b)['result']['location']['lng']#获取经度\n",
    "            lat = getlnglat(b)['result']['location']['lat']#获取纬度\n",
    "            str_temp = '{\"lat\":' + str(lat) + ',\"lng\":' + str(lng) +',\"count\":'+str(c) +'},'\n",
    "            file.write(str_temp)\n",
    "        except:\n",
    "            f = open(\"异常日志.txt\",'a')\n",
    "            traceback.print_exc(file=f)\n",
    "            f.flush()\n",
    "            f.close()\n",
    "file.close()"
   ]
  },
  {
   "cell_type": "code",
   "execution_count": 30,
   "metadata": {
    "collapsed": false
   },
   "outputs": [
    {
     "data": {
      "text/plain": [
       "31.308425165884255"
      ]
     },
     "execution_count": 30,
     "metadata": {},
     "output_type": "execute_result"
    }
   ],
   "source": [
    "getlnglat(b)['result']['location']['lat']"
   ]
  },
  {
   "cell_type": "code",
   "execution_count": 32,
   "metadata": {
    "collapsed": false
   },
   "outputs": [
    {
     "data": {
      "text/plain": [
       "array([['VIP大厦', 15667],\n",
       "       ['一品新筑苑', 7467],\n",
       "       ['一品漫城', 10256],\n",
       "       ['丁香公寓', 24311],\n",
       "       ['丁香大楼', 16000],\n",
       "       ['七浦公寓', 8000],\n",
       "       ['七韵美地苑', 5850],\n",
       "       ['万业梦立方', 4140],\n",
       "       ['万业紫辰苑', 4516],\n",
       "       ['万东小区', 3350]], dtype=object)"
      ]
     },
     "execution_count": 32,
     "metadata": {},
     "output_type": "execute_result"
    }
   ],
   "source": [
    "data_1[:10].values"
   ]
  },
  {
   "cell_type": "code",
   "execution_count": 36,
   "metadata": {
    "collapsed": false
   },
   "outputs": [
    {
     "name": "stdout",
     "output_type": "stream",
     "text": [
      "VIP大厦 15667\n",
      "一品新筑苑 7467\n",
      "一品漫城 10256\n",
      "丁香公寓 24311\n",
      "丁香大楼 16000\n",
      "七浦公寓 8000\n",
      "七韵美地苑 5850\n",
      "万业梦立方 4140\n",
      "万业紫辰苑 4516\n",
      "万东小区 3350\n"
     ]
    }
   ],
   "source": [
    "for i in data_1[:10].values:\n",
    "    b = i[0].strip()\n",
    "    c = str(i[1]).strip()\n",
    "    print(b,c)"
   ]
  },
  {
   "cell_type": "code",
   "execution_count": null,
   "metadata": {
    "collapsed": true
   },
   "outputs": [],
   "source": []
  }
 ],
 "metadata": {
  "kernelspec": {
   "display_name": "Python 3",
   "language": "python",
   "name": "python3"
  },
  "language_info": {
   "codemirror_mode": {
    "name": "ipython",
    "version": 3
   },
   "file_extension": ".py",
   "mimetype": "text/x-python",
   "name": "python",
   "nbconvert_exporter": "python",
   "pygments_lexer": "ipython3",
   "version": "3.6.0"
  }
 },
 "nbformat": 4,
 "nbformat_minor": 2
}
