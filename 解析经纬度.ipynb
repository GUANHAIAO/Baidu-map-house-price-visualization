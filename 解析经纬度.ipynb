{
 "cells": [
  {
   "cell_type": "code",
   "execution_count": 3,
   "metadata": {
    "collapsed": true
   },
   "outputs": [],
   "source": [
    "# -*- coding: utf-8 -*-\n",
    "import pandas as pd\n",
    "import json\n",
    "from urllib.request import urlopen,quote\n",
    "import csv\n",
    "import traceback\n",
    "import os\n",
    "\n",
    "#构造获取经纬度的函数\n",
    "def getlnglat(address):\n",
    "    url = 'http://api.map.baidu.com/geocoder/v2/?address='\n",
    "    output = 'json'\n",
    "    ak = '  '#需填入自己申请应用后生成的ak\n",
    "    add = quote(address)#本文城市变量为中文，为防止乱码，先用quote进行编码\n",
    "    url2 = url+add+'&output='+output+\"&ak=\"+ak\n",
    "    req = urlopen(url2)\n",
    "    res  = req.read().decode()\n",
    "    temp = json.loads(res)\n",
    "    return temp\n",
    "\n",
    "file = open('经纬度.json','w')#建立json数据文件\n",
    "data_1 = pd.read_csv(\"house_price.csv\")#读取小区房价信息\n",
    "for i in data_1.values:\n",
    "    try:\n",
    "        b = i[0].strip()\n",
    "        c = str(i[1]).strip()\n",
    "        lng = getlnglat(b)['result']['location']['lng']#获取经度\n",
    "        lat = getlnglat(b)['result']['location']['lat']#获取纬度\n",
    "        str_temp = '{\"lat\":' + str(lat) + ',\"lng\":' + str(lng) +',\"count\":'+str(c) +'},'\n",
    "        file.write(str_temp)\n",
    "    except:\n",
    "        f = open(\"异常日志.txt\",'a')\n",
    "        traceback.print_exc(file=f)\n",
    "        f.flush()\n",
    "        f.close()  \n",
    "file.close()"
   ]
  }
 ],
 "metadata": {
  "kernelspec": {
   "display_name": "Python 3",
   "language": "python",
   "name": "python3"
  },
  "language_info": {
   "codemirror_mode": {
    "name": "ipython",
    "version": 3
   },
   "file_extension": ".py",
   "mimetype": "text/x-python",
   "name": "python",
   "nbconvert_exporter": "python",
   "pygments_lexer": "ipython3",
   "version": "3.6.0"
  }
 },
 "nbformat": 4,
 "nbformat_minor": 2
}
